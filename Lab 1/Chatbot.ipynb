{
 "cells": [
  {
   "cell_type": "code",
   "execution_count": null,
   "metadata": {},
   "outputs": [],
   "source": [
    "from tkinter import *\n",
    "from datetime import date\n",
    "import time\n",
    "root=Tk()\n",
    "def send():\n",
    "    send=\"You:\"+a.get()\n",
    "    text.insert('end',\"\\n\"+send)\n",
    "    if(a.get().lower()=='hi'):\n",
    "        text.insert('end','\\n'+\"Robot:hello\")\n",
    "    elif(a.get().lower()=='hey'):\n",
    "        text.insert('end','\\n'+\"Robot:How may I help you?\")\n",
    "    elif(a.get().lower()=='how are you?'):\n",
    "        text.insert('end','\\n'+\"Robot:I am Fine.How are you?\")\n",
    "    elif(a.get().lower()=='I am fine'):\n",
    "        text.insert('end','\\n'+\"Robot:Nice to hear that\")\n",
    "    elif(a.get().lower()=='how is your day?'):\n",
    "        text.insert('end','\\n'+\"Robot:Good\")\n",
    "    elif(a.get().lower()=='how can you help me?'):\n",
    "        text.insert('end','\\n'+\"Robot:What help you need\")\n",
    "    elif(a.get().lower()=='what is your name?'):\n",
    "        text.insert('end','\\n'+\"Robot:My name is Alpha\")\n",
    "    elif(a.get().lower()=='are you a human?'):\n",
    "        text.insert('end','\\n'+\"Robot:No, I am a Robot\")\n",
    "    elif(a.get().lower()=='what is todays date'):\n",
    "        text.insert('end','\\n'+\"Robot:\"+str(date.today()))\n",
    "    elif(a.get().lower()=='what is the time now'):\n",
    "        text.insert('end','\\n'+\"Robot:\"+str(time.strftime(\"%I:%m:%S:%p\")))\n",
    "    else:\n",
    "        text.insert('end','\\n'+\"Robot:I didn't get you\")\n",
    "root.title(\"Alpha Chatbot\")\n",
    "text=Text(bg=\"pink\")\n",
    "text.grid(row=0,column=0,columnspan=2)\n",
    "a=Entry(root,width=80)\n",
    "send=Button(root,bg='blue',text=\"send\",width=20,command=send)\n",
    "send.grid(row=1,column=1)\n",
    "a.grid(row=1,column=0)\n",
    "root.mainloop()"
   ]
  }
 ],
 "metadata": {
  "language_info": {
   "name": "python"
  }
 },
 "nbformat": 4,
 "nbformat_minor": 2
}
